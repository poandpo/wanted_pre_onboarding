{
  "nbformat": 4,
  "nbformat_minor": 0,
  "metadata": {
    "colab": {
      "name": "원티드 프리온보딩 코스pynb",
      "provenance": [],
      "authorship_tag": "ABX9TyNMTKEPoGvn/t3SRLWaZ/Ma",
      "include_colab_link": true
    },
    "kernelspec": {
      "name": "python3",
      "display_name": "Python 3"
    },
    "language_info": {
      "name": "python"
    }
  },
  "cells": [
    {
      "cell_type": "markdown",
      "metadata": {
        "id": "view-in-github",
        "colab_type": "text"
      },
      "source": [
        "<a href=\"https://colab.research.google.com/github/poandpo/wanted_pre_onboarding/blob/main/%EC%9B%90%ED%8B%B0%EB%93%9C_%ED%94%84%EB%A6%AC%EC%98%A8%EB%B3%B4%EB%94%A9_%EC%BD%94%EC%8A%A4pynb.ipynb\" target=\"_parent\"><img src=\"https://colab.research.google.com/assets/colab-badge.svg\" alt=\"Open In Colab\"/></a>"
      ]
    },
    {
      "cell_type": "markdown",
      "source": [
        "## 과제 안내\n",
        "\n",
        "- 아래 설명에 따라 코드의 빈칸을 채워 Tokenizer(문제 1)와 TfidfVectorizer(문제 2) 클래스를 완성하세요.\n",
        "    - 문제 1, 문제 2 모두 수행해야 합니다.\n",
        "    - 주어진 조건을 모두 만족해야 합니다.\n",
        "- 작업한 파일을 하나의 GitHub Repository에 담아서 제출하세요.\n",
        "    - 파일 형식: `.ipynb`\n",
        "        - `.ipynb` 파일 하나에 문제 1과 문제 2 작업 결과를 모두 담아 주시기 바랍니다.\n",
        "    - 링크 제출 전 해당 GitHub Repository가 public으로 설정되어 있는지 확인 바랍니다.\n",
        "        - private으로 설정 시 제출 확인이 불가합니다.\n",
        "\n",
        "https://codestates.notion.site/_AIB-8aaa720522d0496bb80a707f32dc7411        "
      ],
      "metadata": {
        "id": "EdBbAACKJAGN"
      }
    },
    {
      "cell_type": "markdown",
      "source": [
        "### **문제 1) Tokenizer 생성하기**\n",
        "**1-1. `preprocessing()`**\n",
        "\n",
        "텍스트 전처리를 하는 함수입니다.\n",
        "\n",
        "- input: 여러 영어 문장이 포함된 list 입니다. ex) ['I go to school.', 'I LIKE pizza!']\n",
        "- output: 각 문장을 토큰화한 결과로, nested list 형태입니다. ex) [['i', 'go', 'to', 'school'], ['i', 'like', 'pizza']]\n",
        "- 조건 1: 입력된 문장에 대해서 소문자로의 변환과 특수문자 제거를 수행합니다.\n",
        "- 조건 2: 토큰화는 white space 단위로 수행합니다.\n",
        "    \n",
        "    \n",
        "\n",
        "**1-2. `fit()`**\n",
        "\n",
        "어휘 사전을 구축하는 함수입니다.\n",
        "\n",
        "- input: 여러 영어 문장이 포함된 list 입니다. ex) ['I go to school.', 'I LIKE pizza!']\n",
        "- 조건 1: 위에서 만든 `preprocessing` 함수를 이용하여 각 문장에 대해 토큰화를 수행합니다.\n",
        "- 조건 2: 각각의 토큰을 정수 인덱싱 하기 위한 어휘 사전(`self.word_dict`)을 생성합니다.\n",
        "    - 주어진 코드에 있는 `self.word_dict`를 활용합니다.\n",
        "    \n",
        "\n",
        "**1-3. `transform()`**\n",
        "\n",
        "어휘 사전을 활용하여 입력 문장을 정수 인덱싱하는 함수입니다.\n",
        "\n",
        "- input: 여러 영어 문장이 포함된 list입니다. ex) ['I go to school.', 'I LIKE pizza!']\n",
        "- output: 각 문장의 정수 인덱싱으로, nested list 형태입니다. ex) [[1, 2, 3, 4], [1, 5, 6]]\n",
        "- 조건 1: 어휘 사전(`self.word_dict`)에 없는 단어는 'oov'의 index로 변환합니다."
      ],
      "metadata": {
        "id": "Q5dzFmkPJGGz"
      }
    },
    {
      "cell_type": "code",
      "execution_count": 3,
      "metadata": {
        "id": "OtdgDaD2ILYg"
      },
      "outputs": [],
      "source": [
        "import re\n",
        "\n",
        "class Tokenizer():\n",
        "  def __init__(self):\n",
        "    self.word_dict = {'oov': 0}\n",
        "    self.fit_checker = False\n",
        "  \n",
        "  def preprocessing(self, sequences):\n",
        "    result = []\n",
        "    for i in range(len(sequences)):\n",
        "      tok = re.sub(r\"[^a-zA-Z0-9 ]\", \"\", sequences[i]) #영어,숫자 제외 제거\n",
        "      low = tok.lower().split() # 소문자로 변환하고 분리\n",
        "      result.append(low)\n",
        "\n",
        "    return result\n",
        "  \n",
        "  def fit(self, sequences):\n",
        "    self.fit_checker = False\n",
        "    #전처리 함수 후 N차원리스트를 단순 리스트로 변환\n",
        "    pre = sum(self.preprocessing(sequences), []) \n",
        "    # 중복 제외하곤 self.word_dict에 {단어: 숫자} 추가\n",
        "    for word in pre:  \n",
        "      if word not in self.word_dict:\n",
        "         self.word_dict[word] = len(self.word_dict)\n",
        "    self.fit_checker = True\n",
        "\n",
        "  '''\n",
        "  transform\n",
        "  1) 토큰화 된 문장들--> 각각 문장들로 구분\n",
        "  2-1) 문장의 단어들--> 단어(key)의 value(정수)로 바꿈\n",
        "  2-2) 단어의 value가 존재하지 않을시 oov로 간주 --> oov 인덱스로 바뀜\n",
        "  2-3) value들이 sub_re로 추가\n",
        "  3) 한 문장이 다 value로 바뀌어 하나의 sub_re가 완성되면 sub_re를 result에 추가\n",
        "  '''\n",
        "\n",
        "  def transform(self, sequences):\n",
        "    result = []\n",
        "    tokens = self.preprocessing(sequences)\n",
        "    if self.fit_checker:\n",
        "      for token in tokens : #(1)\n",
        "        sub_re =[]\n",
        "        for word in token:\n",
        "           try:\n",
        "             sub_re.append(self.word_dict[word]) #(2-1)\n",
        "           except KeyError:\n",
        "             sub_re.append(self.word_dict['oov'])  #(2-2)\n",
        "        result.append(sub_re) #(2-3)\n",
        "      return result #(3)\n",
        "    else:\n",
        "      raise Exception(\"Tokenizer instance is not fitted yet.\")\n",
        "\n",
        "\n",
        "  def fit_transform(self, sequences):\n",
        "    self.fit(sequences)\n",
        "    result = self.transform(sequences)\n",
        "    return result"
      ]
    },
    {
      "cell_type": "markdown",
      "source": [
        "### **문제 2) TfidfVectorizer 생성하기**\n",
        "\n",
        "**2-1. `fit()`**\n",
        "\n",
        "입력 문장들을 이용해 IDF 행렬을 만드는 함수입니다.\n",
        "\n",
        "- input: 여러 영어 문장이 포함된 list 입니다. ex) ['I go to school.', 'I LIKE pizza!']\n",
        "- 조건 1: IDF 행렬은 list 형태입니다.\n",
        "    - ex) [토큰1에 대한 IDF 값, 토큰2에 대한 IDF 값, .... ]\n",
        "- 조건 2: IDF 값은 아래 식을 이용해 구합니다.\n",
        "![image.png](data:image/png;base64,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)\n",
        "- 조건 3: 입력된 문장의 토큰화에는 문제 1에서 만든 Tokenizer를 사용합니다.\n",
        "    \n",
        "    \n",
        "\n",
        "**2-2. `transform()`**\n",
        "\n",
        "입력 문장들을 이용해 TF-IDF 행렬을 만드는 함수입니다.\n",
        "\n",
        "- input: 여러 영어 문장이 포함된 list입니다. ex) ['I go to school.', 'I LIKE pizza!']\n",
        "- output : nested list 형태입니다.\n",
        "    \n",
        "    ex) [[tf-idf(1, 1), tf-idf(1, 2), tf-idf(1, 3)], [tf-idf(2, 1), tf-idf(2, 2), tf-idf(2, 3)]]\n",
        "![image.png](data:image/png;base64,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)"
      ],
      "metadata": {
        "id": "vxckHuREJM_L"
      }
    },
    {
      "cell_type": "code",
      "source": [
        "from math import log \n",
        "\n",
        "class TfidfVectorizer:\n",
        "  def __init__(self, tokenizer):\n",
        "    self.tokenizer = tokenizer\n",
        "    self.fit_checker = False    \n",
        "\n",
        "    '''\n",
        "    fit\n",
        "    1) 토큰화하여서 나온 nested list--> 1차원 리스트로 변경 ex) [1,2,3,4]\n",
        "    2) df(d,f): 각각 토큰들이 문장마다 있는지 --> 있다면 +1 \n",
        "    3) idf식에 대입한 값을 result에 추가    \n",
        "    '''\n",
        "  def fit(self, sequences):\n",
        "    tokenized = self.tokenizer.fit_transform(sequences)\n",
        "    self.IDF_Matrix = []\n",
        "    self.ts =  list(set(sum(tokenized, []))) # 인덱싱된 정수(토큰)들을 중복제거 후 1차원 리스트로 \n",
        "    n = len(tokenized) # 총 문서\n",
        "    for i in range(len(self.ts)): \n",
        "      t = self.ts[i]\n",
        "      df = 0\n",
        "      for token in tokenized: # (2)\n",
        "        df +=  t in token\n",
        "      self.IDF_Matrix.append(log(n/(df+1))) #(3)\n",
        "    self.fit_checker = True\n",
        "\n",
        "    '''\n",
        "    transform\n",
        "    1)TF행렬 \n",
        "    1-1) 각각 문장으로 구분\n",
        "    1-2) output_type을 위한 []추가 \n",
        "    1-3) 특정 문서안에 특정 토큰의 갯수 TF 행렬에 추가\n",
        "        cf) TF_matrix[-1] --> [-1]하지 않을시 output type 에 맞출수 없음 ex) [[],0,[],1]\n",
        "    2)TF-IDF행렬: tf(d,f) X idf(d,f)\n",
        "    2-1) tf(d,f): 특정 문장에서 특정 문자가 갯수() \n",
        "        idf(d,f): self.IDF_Matrix[x]\n",
        "    2-2) 위 결과를 TF-IDF 행렬 추가 \n",
        "    '''\n",
        "  def transform(self, sequences):\n",
        "    if self.fit_checker:\n",
        "       tokenized = self.tokenizer.transform(sequences)\n",
        "       n =len(tokenized)\n",
        "       self.tfidf_matrix =[]\n",
        "        # TF_행렬\n",
        "       TF_matrix = []\n",
        "       for i in range(n):  \n",
        "         TF_matrix.append([])       \n",
        "         self.tfidf_matrix.append([])\n",
        "         d = tokenized[i] #특정 문서\n",
        "         for x in range(len(self.ts)): #self.ts : 전체 토큰이 있는 리스트\n",
        "           t = self.ts[x]  # 특정 토큰 \n",
        "           TF_matrix[-1].append(d.count(t)) \n",
        "\n",
        "          # TF-IDF 행렬\n",
        "           tfidf= d.count(t) * self.IDF_Matrix[x] \n",
        "           self.tfidf_matrix[-1].append(tfidf)\n",
        "       return self.tfidf_matrix\n",
        "    else:\n",
        "       raise Exception(\"TfidfVectorizer instance is not fitted yet.\")\n",
        "\n",
        "  \n",
        "  def fit_transform(self, sequences):\n",
        "    self.fit(sequences)\n",
        "    return self.transform(sequences)"
      ],
      "metadata": {
        "id": "efR68pFibC5c"
      },
      "execution_count": 1,
      "outputs": []
    },
    {
      "cell_type": "markdown",
      "source": [
        "## 사용 권장 기술\n",
        "\n",
        "- 사용 언어: Python (필수)\n",
        "- 외부 라이브러리 사용은 자유이나, output의 type은 문제에 명시된 조건을 따라야 합니다."
      ],
      "metadata": {
        "id": "hlSa8tFJJTiq"
      }
    }
  ]
}